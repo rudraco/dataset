{
  "nbformat": 4,
  "nbformat_minor": 0,
  "metadata": {
    "colab": {
      "name": "dataSet.ipynb",
      "provenance": [],
      "authorship_tag": "ABX9TyMOL2WIiL2vw7vEyb5tPw3X",
      "include_colab_link": true
    },
    "kernelspec": {
      "name": "python3",
      "display_name": "Python 3"
    }
  },
  "cells": [
    {
      "cell_type": "markdown",
      "metadata": {
        "id": "view-in-github",
        "colab_type": "text"
      },
      "source": [
        "<a href=\"https://colab.research.google.com/github/rudraco/dataset/blob/master/dataSet.ipynb\" target=\"_parent\"><img src=\"https://colab.research.google.com/assets/colab-badge.svg\" alt=\"Open In Colab\"/></a>"
      ]
    },
    {
      "cell_type": "code",
      "metadata": {
        "colab": {
          "base_uri": "https://localhost:8080/"
        },
        "id": "1h7jirpL3qK4",
        "outputId": "81602a4c-22c4-47b0-eb72-275016a583b1"
      },
      "source": [
        "import numpy as np # linear algebra\n",
        "import pandas as pd # data processing, CSV file I/O (e.g. pd.read_csv)\n",
        "\n",
        "from google.colab import drive\n",
        "drive.mount('/content/drive')"
      ],
      "execution_count": 1,
      "outputs": [
        {
          "output_type": "stream",
          "text": [
            "Mounted at /content/drive\n"
          ],
          "name": "stdout"
        }
      ]
    },
    {
      "cell_type": "code",
      "metadata": {
        "id": "HBvVwcEE31NK"
      },
      "source": [
        "data =pd.read_csv('/content/drive/My Drive/tiktok_data.csv',)"
      ],
      "execution_count": 2,
      "outputs": []
    },
    {
      "cell_type": "code",
      "metadata": {
        "colab": {
          "base_uri": "https://localhost:8080/",
          "height": 204
        },
        "id": "Care6fds4lR_",
        "outputId": "1e9cff20-047c-4848-b9ad-5e827c9b426d"
      },
      "source": [
        "display(data.head())"
      ],
      "execution_count": 3,
      "outputs": [
        {
          "output_type": "display_data",
          "data": {
            "text/html": [
              "<div>\n",
              "<style scoped>\n",
              "    .dataframe tbody tr th:only-of-type {\n",
              "        vertical-align: middle;\n",
              "    }\n",
              "\n",
              "    .dataframe tbody tr th {\n",
              "        vertical-align: top;\n",
              "    }\n",
              "\n",
              "    .dataframe thead th {\n",
              "        text-align: right;\n",
              "    }\n",
              "</style>\n",
              "<table border=\"1\" class=\"dataframe\">\n",
              "  <thead>\n",
              "    <tr style=\"text-align: right;\">\n",
              "      <th></th>\n",
              "      <th>user</th>\n",
              "      <th>music_info</th>\n",
              "      <th>caption</th>\n",
              "      <th>likes_and_comments</th>\n",
              "    </tr>\n",
              "  </thead>\n",
              "  <tbody>\n",
              "    <tr>\n",
              "      <th>0</th>\n",
              "      <td>arjunkanungo\\n@arjun_kanungo</td>\n",
              "      <td>\"Ping Pong (Hardwell Remix)- Armin van Buuren\"</td>\n",
              "      <td>\"#agechallenge hey guys I'm old now 😂\"</td>\n",
              "      <td>\"439.8k likes · 460 comments\"</td>\n",
              "    </tr>\n",
              "    <tr>\n",
              "      <th>1</th>\n",
              "      <td>Nitish_kumar\\n@officialnitishkumar768</td>\n",
              "      <td>\"The Wakhra song- Navv Inder.Lisa Mishra and ...</td>\n",
              "      <td>\"#tiktok @tiktok_india #foryou #trending #fuu...</td>\n",
              "      <td>\"1.6m likes · 7.7k comments\"</td>\n",
              "    </tr>\n",
              "    <tr>\n",
              "      <th>2</th>\n",
              "      <td>BhukkadChokri\\n@bhukkadchokri_2019</td>\n",
              "      <td>\"The Wakhra song- Navv Inder.Lisa Mishra and ...</td>\n",
              "      <td>\"Paaru Chaat #paprichaat #bhukkadchokri #desi...</td>\n",
              "      <td>\"452k likes · 495 comments\"</td>\n",
              "    </tr>\n",
              "    <tr>\n",
              "      <th>3</th>\n",
              "      <td>Bhavika Motwani\\n@bhavika_motwani</td>\n",
              "      <td>\"Ping Pong (Hardwell Remix)- Armin van Buuren\"</td>\n",
              "      <td>\"#agechallenge @rahul_lakhanpal\"</td>\n",
              "      <td>\"474.9k likes · 364 comments\"</td>\n",
              "    </tr>\n",
              "    <tr>\n",
              "      <th>4</th>\n",
              "      <td>gargi sharma\\n@gargi16</td>\n",
              "      <td>\"The Wakhra song- Navv Inder.Lisa Mishra and ...</td>\n",
              "      <td>\"#cookingdiarybygargi#springroll#jaipurfood#j...</td>\n",
              "      <td>\"530.4k likes · 551 comments\"</td>\n",
              "    </tr>\n",
              "  </tbody>\n",
              "</table>\n",
              "</div>"
            ],
            "text/plain": [
              "                                    user  ...              likes_and_comments\n",
              "0           arjunkanungo\\n@arjun_kanungo  ...   \"439.8k likes · 460 comments\"\n",
              "1  Nitish_kumar\\n@officialnitishkumar768  ...    \"1.6m likes · 7.7k comments\"\n",
              "2     BhukkadChokri\\n@bhukkadchokri_2019  ...     \"452k likes · 495 comments\"\n",
              "3      Bhavika Motwani\\n@bhavika_motwani  ...   \"474.9k likes · 364 comments\"\n",
              "4                 gargi sharma\\n@gargi16  ...   \"530.4k likes · 551 comments\"\n",
              "\n",
              "[5 rows x 4 columns]"
            ]
          },
          "metadata": {
            "tags": []
          }
        }
      ]
    },
    {
      "cell_type": "code",
      "metadata": {
        "colab": {
          "base_uri": "https://localhost:8080/"
        },
        "id": "7hL6sfNE41D_",
        "outputId": "fed8df56-b61d-4282-dea7-bca287c86e80"
      },
      "source": [
        "data['user']"
      ],
      "execution_count": 6,
      "outputs": [
        {
          "output_type": "execute_result",
          "data": {
            "text/plain": [
              "0              arjunkanungo\\n@arjun_kanungo\n",
              "1     Nitish_kumar\\n@officialnitishkumar768\n",
              "2        BhukkadChokri\\n@bhukkadchokri_2019\n",
              "3         Bhavika Motwani\\n@bhavika_motwani\n",
              "4                    gargi sharma\\n@gargi16\n",
              "5                 Ahan khan\\n@anasuxre36ag0\n",
              "6        Ruchika Asatkar\\n@ruchikaasatkar68\n",
              "7          Shameer thoppil\\n@shameerthoppil\n",
              "8                      Kanka Das\\n@kankadas\n",
              "9                 Navaneeta\\n@bong__bhukkad\n",
              "10            Abhishek sonu\\n@sonu_singh786\n",
              "11             Darshan Raval\\n@darshanraval\n",
              "12                Tiktoker\\n@nikitaverma007\n",
              "13                           Arsh\\n@arshfam\n",
              "14       Rannvijay Singha\\n@rannvijaysingha\n",
              "15         Virender Sehwag\\n@virendersehwag\n",
              "16              Jeet Boruah\\n@jeet_boruah20\n",
              "Name: user, dtype: object"
            ]
          },
          "metadata": {
            "tags": []
          },
          "execution_count": 6
        }
      ]
    },
    {
      "cell_type": "code",
      "metadata": {
        "colab": {
          "base_uri": "https://localhost:8080/"
        },
        "id": "v02PeI5K5N7M",
        "outputId": "db6b3620-567e-4fd9-ada7-8f75f3dfe434"
      },
      "source": [
        "user = data['user']\n",
        "user.str.replace(\"\\n\",\" \")\n",
        "for i in user:\n",
        "    n =str(i)\n",
        "    print(n)"
      ],
      "execution_count": 7,
      "outputs": [
        {
          "output_type": "stream",
          "text": [
            "arjunkanungo\n",
            "@arjun_kanungo\n",
            "Nitish_kumar\n",
            "@officialnitishkumar768\n",
            "BhukkadChokri\n",
            "@bhukkadchokri_2019\n",
            "Bhavika Motwani\n",
            "@bhavika_motwani\n",
            "gargi sharma\n",
            "@gargi16\n",
            "Ahan khan\n",
            "@anasuxre36ag0\n",
            "Ruchika Asatkar\n",
            "@ruchikaasatkar68\n",
            "Shameer thoppil\n",
            "@shameerthoppil\n",
            "Kanka Das\n",
            "@kankadas\n",
            "Navaneeta\n",
            "@bong__bhukkad\n",
            "Abhishek sonu\n",
            "@sonu_singh786\n",
            "Darshan Raval\n",
            "@darshanraval\n",
            "Tiktoker\n",
            "@nikitaverma007\n",
            "Arsh\n",
            "@arshfam\n",
            "Rannvijay Singha\n",
            "@rannvijaysingha\n",
            "Virender Sehwag\n",
            "@virendersehwag\n",
            "Jeet Boruah\n",
            "@jeet_boruah20\n"
          ],
          "name": "stdout"
        }
      ]
    },
    {
      "cell_type": "code",
      "metadata": {
        "colab": {
          "base_uri": "https://localhost:8080/"
        },
        "id": "Yg5WJEdK5wgJ",
        "outputId": "159c30e8-3553-4b05-d7af-5205e17af834"
      },
      "source": [
        "data['caption']"
      ],
      "execution_count": 9,
      "outputs": [
        {
          "output_type": "execute_result",
          "data": {
            "text/plain": [
              "0                \"#agechallenge hey guys I'm old now 😂\"\n",
              "1      \"#tiktok @tiktok_india #foryou #trending #fuu...\n",
              "2      \"Paaru Chaat #paprichaat #bhukkadchokri #desi...\n",
              "3                      \"#agechallenge @rahul_lakhanpal\"\n",
              "4      \"#cookingdiarybygargi#springroll#jaipurfood#j...\n",
              "5      \"5 5 hai#desifood #edutok #tiktokindia #AbRuk...\n",
              "6      \"Dahi wada #nagpur #ruchikaasatkar #dahiwada ...\n",
              "7      \"#attukad #waterfall #tiktokindia #tiktok #ti...\n",
              "8      \"#agechallenge #trending #kolkata #kolkatamus...\n",
              "9      \"Desserts. #foodofindia #desifood #chocolate ...\n",
              "10     \"saala kya action Hai be pagal Ho Gaya#desifo...\n",
              "11     \"#hawabanke growing bigger.this is what i fee...\n",
              "12     \"#wawww👌🏻👌🏻👌🏻nice @agimlois @bhartifrozen @bh...\n",
              "13           \"#agechallenge chalo muscle toh same raha\"\n",
              "14     \"Behind the scenes #rannvijay #squadrann squa...\n",
              "15     \"Na if na but . only bhatabhat #virukafunda #...\n",
              "16     \"#diy #doityourself #foryou #foryoupage #tikt...\n",
              "Name: caption, dtype: object"
            ]
          },
          "metadata": {
            "tags": []
          },
          "execution_count": 9
        }
      ]
    },
    {
      "cell_type": "code",
      "metadata": {
        "colab": {
          "base_uri": "https://localhost:8080/"
        },
        "id": "bZ54SoVQ6mqw",
        "outputId": "ea88a208-12d4-4015-a6df-831aeadf9b72"
      },
      "source": [
        "caption = data['caption']\n",
        "caption.str.replace('\"','')\n",
        "for i in caption:\n",
        "    n =str(i)\n",
        "    print(n)"
      ],
      "execution_count": 12,
      "outputs": [
        {
          "output_type": "stream",
          "text": [
            " \"#agechallenge hey guys I'm old now 😂\"\n",
            " \"#tiktok @tiktok_india #foryou #trending #fuunyvideo #foryoupage #edutok @mrabhipartap\"\n",
            " \"Paaru Chaat #paprichaat #bhukkadchokri #desifood #foodie @tiktok_desifood @tiktok_india\"\n",
            " \"#agechallenge @rahul_lakhanpal\"\n",
            " \"#cookingdiarybygargi#springroll#jaipurfood#jaipurfoodblogger#jaipurblogger#desifood#tiktokjaipur\"\n",
            " \"5 5 hai#desifood #edutok #tiktokindia #AbRuknaNahi\"\n",
            " \"Dahi wada #nagpur #ruchikaasatkar #dahiwada #desifood #indianfood #indianfoodblogger #foodblogger\"\n",
            " \"#attukad #waterfall #tiktokindia #tiktok #tiktoktravel #travel #naturelove #longdrive\"\n",
            " \"#agechallenge #trending #kolkata #kolkatamuser #bonggirl #varietyqueen insta:kankadas\"\n",
            " \"Desserts. #foodofindia #desifood #chocolate #quickbite #food #foodfood\"\n",
            " \"saala kya action Hai be pagal Ho Gaya#desifood #edutok #act #acting #trending #no_11\"\n",
            " \"#hawabanke growing bigger.this is what i feel thank you so much guys ❤️ #darshanraval\"\n",
            " \"#wawww👌🏻👌🏻👌🏻nice @agimlois @bhartifrozen @bhavnamayani\"\n",
            " \"#agechallenge chalo muscle toh same raha\"\n",
            " \"Behind the scenes #rannvijay #squadrann squadrannkillinit #tiktok #tiktokindia #foryoupage #foryou\"\n",
            " \"Na if na but . only bhatabhat #virukafunda #whatyouchoose #edutok #simplelife\"\n",
            " \"#diy #doityourself #foryou #foryoupage #tiktokindia #jeetsfam #skills4all DIY with BISWAJIT\"\n"
          ],
          "name": "stdout"
        }
      ]
    },
    {
      "cell_type": "code",
      "metadata": {
        "id": "JuU_nWis7S7b"
      },
      "source": [
        ""
      ],
      "execution_count": null,
      "outputs": []
    }
  ]
}